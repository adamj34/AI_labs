{
 "cells": [
  {
   "cell_type": "code",
   "execution_count": 2,
   "metadata": {},
   "outputs": [],
   "source": [
    "import numpy as np\n"
   ]
  },
  {
   "cell_type": "code",
   "execution_count": 12,
   "metadata": {},
   "outputs": [],
   "source": [
    "def sigmoid(x):\n",
    "    return 1 / (1 + np.exp(-x))"
   ]
  },
  {
   "cell_type": "code",
   "execution_count": 34,
   "metadata": {},
   "outputs": [
    {
     "data": {
      "text/plain": [
       "0.8007882633665949"
      ]
     },
     "execution_count": 34,
     "metadata": {},
     "output_type": "execute_result"
    }
   ],
   "source": [
    "def forward_pass(age, weight, height):\n",
    "    input = np.array([age, weight, height])\n",
    "\n",
    "    weights1 = np.array([-0.46122, 0.97314, -0.39203])\n",
    "    bias1 = 0.80109\n",
    "    weights2 = np.array([0.78548, 2.10584, -0.57847])\n",
    "    bias2 = 0.43529\n",
    "    output_weights = np.array([-0.81546, 1.03775])\n",
    "    bias3 = -0.2368\n",
    "\n",
    "    hidden1 = sigmoid(np.sum(input * weights1) + bias1)\n",
    "    hidden2 = sigmoid(np.sum(input * weights2) + bias2)\n",
    "    output = np.sum(output_weights * np.array([hidden1, hidden2])) + bias3\n",
    "    return output\n",
    "\n",
    "forward_pass(21,33,81)\n",
    "forward_pass(23,75,176)\n"
   ]
  }
 ],
 "metadata": {
  "kernelspec": {
   "display_name": "Python 3",
   "language": "python",
   "name": "python3"
  },
  "language_info": {
   "codemirror_mode": {
    "name": "ipython",
    "version": 3
   },
   "file_extension": ".py",
   "mimetype": "text/x-python",
   "name": "python",
   "nbconvert_exporter": "python",
   "pygments_lexer": "ipython3",
   "version": "3.10.6"
  },
  "orig_nbformat": 4
 },
 "nbformat": 4,
 "nbformat_minor": 2
}
