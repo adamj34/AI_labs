{
 "cells": [
  {
   "cell_type": "code",
   "execution_count": 4,
   "metadata": {},
   "outputs": [],
   "source": [
    "import pygad\n",
    "import numpy as np\n",
    "import time\n",
    "# 1630 - max\n",
    "\n",
    "items = ['zegar', 'pejzaz', 'portret', 'radio', 'laptop', 'lampka', 'sztucce', 'porcelana', 'figura', 'torebka', 'odkurzacz']\n",
    "items_to_ints = {inx:item for inx, item in enumerate(items, start=0)}\n",
    "price = [100, 300, 200, 40, 500, 70, 100, 250, 300, 280, 300]\n",
    "weight = [7, 7, 6, 2, 5, 6, 1, 3, 10, 3, 15]\n",
    "\n",
    "\n",
    "#definiujemy parametry chromosomu\n",
    "#geny to liczby: 0 lub 1\n",
    "gene_space = [0, 1]\n",
    "\n",
    "#definiujemy funkcję fitness\n",
    "def fitness_func(solution, solution_idx): # solution_idx - irrelevant\n",
    "    suma_wartosci = np.sum(solution * price)\n",
    "    suma_wag = np.sum(solution * weight)\n",
    "    if suma_wag > 25:\n",
    "        return 0\n",
    "    else:\n",
    "        return suma_wartosci\n"
   ]
  },
  {
   "cell_type": "code",
   "execution_count": 5,
   "metadata": {},
   "outputs": [
    {
     "name": "stdout",
     "output_type": "stream",
     "text": [
      "Parameters of the best solution : [0. 1. 1. 0. 1. 0. 1. 1. 0. 1. 0.]\n",
      "Fitness value of the best solution = 1630.0\n",
      "Chosen items: ['pejzaz', 'portret', 'laptop', 'sztucce', 'porcelana', 'torebka']\n"
     ]
    },
    {
     "data": {
      "image/png": "[encoded data removed]",
      "text/plain": [
       "<Figure size 640x480 with 1 Axes>"
      ]
     },
     "metadata": {},
     "output_type": "display_data"
    },
    {
     "name": "stdout",
     "output_type": "stream",
     "text": [
      "Number of generations passed is 6\n"
     ]
    }
   ],
   "source": [
    "fitness_function = fitness_func\n",
    "# max_pokolen - ok. 100\n",
    "\n",
    "#ile chromsomów w populacji\n",
    "#ile genow ma chromosom\n",
    "sol_per_pop = 50\n",
    "num_genes = len(items) \n",
    "\n",
    "#ile wylaniamy rodzicow do \"rozmanazania\" (okolo 50% populacji)\n",
    "#ile pokolen\n",
    "#ilu rodzicow zachowac (kilka procent)\n",
    "num_parents_mating = 30\n",
    "num_generations = 100\n",
    "keep_parents = 2\n",
    "\n",
    "#jaki typ selekcji rodzicow?\n",
    "#sss = steady, rws=roulette, rank = rankingowa, tournament = turniejowa\n",
    "parent_selection_type = \"sss\"\n",
    "\n",
    "#w ilu punktach robic krzyzowanie?\n",
    "crossover_type = \"single_point\"\n",
    "\n",
    "#mutacja ma dzialac na ilu procent genow?\n",
    "#trzeba pamietac ile genow ma chromosom\n",
    "mutation_type = \"random\"\n",
    "mutation_percent_genes = 10 \n",
    "\n",
    "#inicjacja algorytmu z powyzszymi parametrami wpisanymi w atrybuty\n",
    "ga_instance = pygad.GA(gene_space=gene_space,\n",
    "                       num_generations=num_generations,\n",
    "                       num_parents_mating=num_parents_mating,\n",
    "                       fitness_func=fitness_function,\n",
    "                       sol_per_pop=sol_per_pop,\n",
    "                       num_genes=num_genes,\n",
    "                       parent_selection_type=parent_selection_type,\n",
    "                       keep_parents=keep_parents,\n",
    "                       crossover_type=crossover_type,\n",
    "                       mutation_type=mutation_type,\n",
    "                       mutation_percent_genes=mutation_percent_genes,\n",
    "                       stop_criteria=[\"reach_1600.0\"])\n",
    "\n",
    "#uruchomienie algorytmu\n",
    "ga_instance.run()\n",
    "\n",
    "#podsumowanie: najlepsze znalezione rozwiazanie (chromosom+ocena)\n",
    "solution, solution_fitness, solution_idx = ga_instance.best_solution()\n",
    "print(\"Parameters of the best solution : {solution}\".format(solution=solution))\n",
    "print(\"Fitness value of the best solution = {solution_fitness}\".format(solution_fitness=solution_fitness))\n",
    "\n",
    "#tutaj dodatkowo wyswietlamy sume wskazana przez jedynki\n",
    "# solution = np.array(solution, dtype=int)\n",
    "best_items = [items_to_ints[inx] for inx in range(11) if solution[inx] == 1]\n",
    "print(f\"Chosen items: {best_items}\")\n",
    "\n",
    "#wyswietlenie wykresu: jak zmieniala sie ocena na przestrzeni pokolen\n",
    "ga_instance.plot_fitness()\n",
    "print(\"Number of generations passed is {generations_completed}\".format(generations_completed=ga_instance.generations_completed))"
   ]
  },
  {
   "cell_type": "code",
   "execution_count": 6,
   "metadata": {},
   "outputs": [
    {
     "name": "stdout",
     "output_type": "stream",
     "text": [
      "Average time: to find the solution: 0.037003278732299805\n"
     ]
    }
   ],
   "source": [
    "fitness_function = fitness_func\n",
    "# max_pokolen - ok. 100\n",
    "\n",
    "#ile chromsomów w populacji\n",
    "#ile genow ma chromosom\n",
    "sol_per_pop = 50\n",
    "num_genes = len(items) \n",
    "\n",
    "#ile wylaniamy rodzicow do \"rozmanazania\" (okolo 50% populacji)\n",
    "#ile pokolen\n",
    "#ilu rodzicow zachowac (kilka procent)\n",
    "num_parents_mating = 20\n",
    "num_generations = 100\n",
    "keep_parents = 2\n",
    "\n",
    "#jaki typ selekcji rodzicow?\n",
    "#sss = steady, rws=roulette, rank = rankingowa, tournament = turniejowa\n",
    "parent_selection_type = \"sss\"\n",
    "\n",
    "#w ilu punktach robic krzyzowanie?\n",
    "crossover_type = \"single_point\"\n",
    "\n",
    "#mutacja ma dzialac na ilu procent genow?\n",
    "#trzeba pamietac ile genow ma chromosom\n",
    "mutation_type = \"random\"\n",
    "mutation_percent_genes = 10 \n",
    "\n",
    "times = []\n",
    "for _ in range(10):\n",
    "    start = time.time()\n",
    "    #inicjacja algorytmu z powyzszymi parametrami wpisanymi w atrybuty\n",
    "    ga_instance = pygad.GA(gene_space=gene_space,\n",
    "                        num_generations=num_generations,\n",
    "                        num_parents_mating=num_parents_mating,\n",
    "                        fitness_func=fitness_function,\n",
    "                        sol_per_pop=sol_per_pop,\n",
    "                        num_genes=num_genes,\n",
    "                        parent_selection_type=parent_selection_type,\n",
    "                        keep_parents=keep_parents,\n",
    "                        crossover_type=crossover_type,\n",
    "                        mutation_type=mutation_type,\n",
    "                        mutation_percent_genes=mutation_percent_genes,\n",
    "                        stop_criteria=[\"reach_1600.0\"])\n",
    "\n",
    "    #uruchomienie algorytmu\n",
    "    ga_instance.run()\n",
    "    end = time.time()\n",
    "    times.append(end - start)\n",
    "print(f\"Average time to find the solution: {sum(times) / 10}\")\n",
    "\n",
    "# #podsumowanie: najlepsze znalezione rozwiazanie (chromosom+ocena)\n",
    "# solution, solution_fitness, solution_idx = ga_instance.best_solution()\n",
    "# print(\"Parameters of the best solution : {solution}\".format(solution=solution))\n",
    "# print(\"Fitness value of the best solution = {solution_fitness}\".format(solution_fitness=solution_fitness))\n",
    "\n",
    "# #tutaj dodatkowo wyswietlamy sume wskazana przez jedynki\n",
    "# # solution = np.array(solution, dtype=int)\n",
    "# best_items = [items_to_ints[inx] for inx in range(11) if solution[inx] == 1]\n",
    "# print(f\"Chosen items: {best_items}\")\n",
    "\n",
    "# #wyswietlenie wykresu: jak zmieniala sie ocena na przestrzeni pokolen\n",
    "# ga_instance.plot_fitness()\n",
    "# print(\"Number of generations passed is {generations_completed}\".format(generations_completed=ga_instance.generations_completed))"
   ]
  }
 ],
 "metadata": {
  "kernelspec": {
   "display_name": "Python 3",
   "language": "python",
   "name": "python3"
  },
  "language_info": {
   "codemirror_mode": {
    "name": "ipython",
    "version": 3
   },
   "file_extension": ".py",
   "mimetype": "text/x-python",
   "name": "python",
   "nbconvert_exporter": "python",
   "pygments_lexer": "ipython3",
   "version": "3.10.6"
  },
  "orig_nbformat": 4,
  "vscode": {
   "interpreter": {
    "hash": "31f2aee4e71d21fbe5cf8b01ff0e069b9275f58929596ceb00d14d90e3e16cd6"
   }
  }
 },
 "nbformat": 4,
 "nbformat_minor": 2
}
