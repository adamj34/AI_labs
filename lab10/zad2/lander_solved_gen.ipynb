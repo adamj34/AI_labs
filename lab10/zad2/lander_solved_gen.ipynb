{
 "cells": [
  {
   "cell_type": "code",
   "execution_count": 21,
   "metadata": {},
   "outputs": [],
   "source": [
    "import pygad\n",
    "import time\n",
    "import gymnasium as gym\n",
    "\n",
    "env = gym.make('LunarLander-v2')\n",
    "observation, info = env.reset(seed=42)\n",
    "\n",
    "\n",
    "def fitness_func(solution, sol_idx):\n",
    "    total_reward = 0\n",
    "    observation = env.reset(seed=42)\n",
    "    \n",
    "    for step in range(200):\n",
    "        action = int(solution[step])\n",
    "        observation, reward, terminated, truncated, info = env.step(action) \n",
    "        total_reward += reward\n",
    "        if terminated or truncated:\n",
    "            observation, info = env.reset(seed=42)\n",
    "    \n",
    "    return total_reward\n"
   ]
  },
  {
   "cell_type": "code",
   "execution_count": 22,
   "metadata": {},
   "outputs": [],
   "source": [
    "# chromosom - 150 liczb z zakresu 0-3 (akcje)\n",
    "\n",
    "ga_instance = pygad.GA(\n",
    "    num_generations=200,\n",
    "    num_parents_mating=100,\n",
    "    fitness_func=fitness_func,\n",
    "    sol_per_pop=200,\n",
    "    num_genes=200,\n",
    "    gene_type=int,\n",
    "    init_range_low=0,\n",
    "    init_range_high=3,\n",
    "    parent_selection_type=\"tournament\",\n",
    "    keep_parents=1,\n",
    "    mutation_percent_genes=20,\n",
    "    mutation_by_replacement=True,\n",
    "    mutation_type=\"random\",\n",
    "    random_mutation_min_val=0,\n",
    "    random_mutation_max_val=3,\n",
    ")\n",
    "\n",
    "#uruchomienie algorytmu\n",
    "ga_instance.run()\n",
    "\n",
    "#podsumowanie: najlepsze znalezione rozwiazanie (chromosom+ocena)\n",
    "solution, solution_fitness, solution_idx = ga_instance.best_solution()\n",
    "print(\"Parameters of the best solution : {solution}\".format(solution=solution))\n",
    "print(\"Fitness value of the best solution = {solution_fitness}\".format(solution_fitness=solution_fitness))\n",
    "\n",
    "\n",
    "#wyswietlenie wykresu: jak zmieniala sie ocena na przestrzeni pokolen\n",
    "ga_instance.plot_fitness();"
   ]
  },
  {
   "cell_type": "code",
   "execution_count": 20,
   "metadata": {},
   "outputs": [],
   "source": [
    "env = gym.make('LunarLander-v2', render_mode=\"human\")\n",
    "observation, info = env.reset(seed=42)\n",
    "\n",
    "for i in range(len(solution)):\n",
    "   action = solution[i]  # this is where you would insert your policy\n",
    "   observation, reward, terminated, truncated, info = env.step(action)   \n",
    " \n",
    "   if terminated or truncated:\n",
    "      observation, info = env.reset(seed=42)\n",
    "time.sleep(1)\n",
    "env.close()"
   ]
  }
 ],
 "metadata": {
  "kernelspec": {
   "display_name": "Python 3",
   "language": "python",
   "name": "python3"
  },
  "language_info": {
   "codemirror_mode": {
    "name": "ipython",
    "version": 3
   },
   "file_extension": ".py",
   "mimetype": "text/x-python",
   "name": "python",
   "nbconvert_exporter": "python",
   "pygments_lexer": "ipython3",
   "version": "3.10.6"
  },
  "orig_nbformat": 4
 },
 "nbformat": 4,
 "nbformat_minor": 2
}
