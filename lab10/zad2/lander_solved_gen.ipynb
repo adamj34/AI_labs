{
 "cells": [
  {
   "cell_type": "code",
   "execution_count": 1,
   "metadata": {},
   "outputs": [],
   "source": [
    "import pygad\n",
    "import time\n",
    "import gymnasium as gym\n",
    "\n",
    "env = gym.make('LunarLander-v2')\n",
    "observation, info = env.reset(seed=42)\n",
    "\n",
    "\n",
    "def fitness_func(solution, sol_idx):\n",
    "    total_reward = 0    \n",
    "    observation = env.reset(seed=42)\n",
    "    \n",
    "    for step in range(200):\n",
    "        action = int(solution[step])\n",
    "        observation, reward, terminated, truncated, info = env.step(action) \n",
    "        total_reward += reward\n",
    "        if terminated or truncated:\n",
    "            observation, info = env.reset(seed=42)\n",
    "    \n",
    "    return total_reward\n"
   ]
  },
  {
   "cell_type": "code",
   "execution_count": 2,
   "metadata": {},
   "outputs": [
    {
     "ename": "KeyboardInterrupt",
     "evalue": "",
     "output_type": "error",
     "traceback": [
      "\u001b[0;31m---------------------------------------------------------------------------\u001b[0m",
      "\u001b[0;31mKeyboardInterrupt\u001b[0m                         Traceback (most recent call last)",
      "Cell \u001b[0;32mIn[2], line 22\u001b[0m\n\u001b[1;32m      3\u001b[0m ga_instance \u001b[39m=\u001b[39m pygad\u001b[39m.\u001b[39mGA(\n\u001b[1;32m      4\u001b[0m     num_generations\u001b[39m=\u001b[39m\u001b[39m100\u001b[39m,\n\u001b[1;32m      5\u001b[0m     num_parents_mating\u001b[39m=\u001b[39m\u001b[39m100\u001b[39m,\n\u001b[0;32m   (...)\u001b[0m\n\u001b[1;32m     18\u001b[0m     random_mutation_max_val\u001b[39m=\u001b[39m\u001b[39m3\u001b[39m,\n\u001b[1;32m     19\u001b[0m )\n\u001b[1;32m     21\u001b[0m \u001b[39m#uruchomienie algorytmu\u001b[39;00m\n\u001b[0;32m---> 22\u001b[0m ga_instance\u001b[39m.\u001b[39;49mrun()\n\u001b[1;32m     24\u001b[0m \u001b[39m#podsumowanie: najlepsze znalezione rozwiazanie (chromosom+ocena)\u001b[39;00m\n\u001b[1;32m     25\u001b[0m solution, solution_fitness, solution_idx \u001b[39m=\u001b[39m ga_instance\u001b[39m.\u001b[39mbest_solution()\n",
      "File \u001b[0;32m~/.local/lib/python3.10/site-packages/pygad/pygad.py:1413\u001b[0m, in \u001b[0;36mGA.run\u001b[0;34m(self)\u001b[0m\n\u001b[1;32m   1411\u001b[0m \u001b[39mself\u001b[39m\u001b[39m.\u001b[39mprevious_generation_fitness \u001b[39m=\u001b[39m \u001b[39mself\u001b[39m\u001b[39m.\u001b[39mlast_generation_fitness\u001b[39m.\u001b[39mcopy()\n\u001b[1;32m   1412\u001b[0m \u001b[39m# Measuring the fitness of each chromosome in the population. Save the fitness in the last_generation_fitness attribute.\u001b[39;00m\n\u001b[0;32m-> 1413\u001b[0m \u001b[39mself\u001b[39m\u001b[39m.\u001b[39mlast_generation_fitness \u001b[39m=\u001b[39m \u001b[39mself\u001b[39;49m\u001b[39m.\u001b[39;49mcal_pop_fitness()\n\u001b[1;32m   1415\u001b[0m best_solution, best_solution_fitness, best_match_idx \u001b[39m=\u001b[39m \u001b[39mself\u001b[39m\u001b[39m.\u001b[39mbest_solution(pop_fitness\u001b[39m=\u001b[39m\u001b[39mself\u001b[39m\u001b[39m.\u001b[39mlast_generation_fitness)\n\u001b[1;32m   1417\u001b[0m \u001b[39m# Appending the best solution in the current generation to the best_solutions list.\u001b[39;00m\n",
      "File \u001b[0;32m~/.local/lib/python3.10/site-packages/pygad/pygad.py:1235\u001b[0m, in \u001b[0;36mGA.cal_pop_fitness\u001b[0;34m(self)\u001b[0m\n\u001b[1;32m   1233\u001b[0m     fitness \u001b[39m=\u001b[39m \u001b[39mself\u001b[39m\u001b[39m.\u001b[39mprevious_generation_fitness[parent_idx]\n\u001b[1;32m   1234\u001b[0m \u001b[39melse\u001b[39;00m:\n\u001b[0;32m-> 1235\u001b[0m     fitness \u001b[39m=\u001b[39m \u001b[39mself\u001b[39;49m\u001b[39m.\u001b[39;49mfitness_func(sol, sol_idx)\n\u001b[1;32m   1236\u001b[0m     \u001b[39mif\u001b[39;00m \u001b[39mtype\u001b[39m(fitness) \u001b[39min\u001b[39;00m GA\u001b[39m.\u001b[39msupported_int_float_types:\n\u001b[1;32m   1237\u001b[0m         \u001b[39mpass\u001b[39;00m\n",
      "Cell \u001b[0;32mIn[1], line 18\u001b[0m, in \u001b[0;36mfitness_func\u001b[0;34m(solution, sol_idx)\u001b[0m\n\u001b[1;32m     16\u001b[0m     total_reward \u001b[39m+\u001b[39m\u001b[39m=\u001b[39m reward\n\u001b[1;32m     17\u001b[0m     \u001b[39mif\u001b[39;00m terminated \u001b[39mor\u001b[39;00m truncated:\n\u001b[0;32m---> 18\u001b[0m         observation, info \u001b[39m=\u001b[39m env\u001b[39m.\u001b[39;49mreset(seed\u001b[39m=\u001b[39;49m\u001b[39m42\u001b[39;49m)\n\u001b[1;32m     20\u001b[0m \u001b[39mreturn\u001b[39;00m total_reward\n",
      "File \u001b[0;32m~/.local/lib/python3.10/site-packages/gymnasium/wrappers/time_limit.py:75\u001b[0m, in \u001b[0;36mTimeLimit.reset\u001b[0;34m(self, **kwargs)\u001b[0m\n\u001b[1;32m     66\u001b[0m \u001b[39m\u001b[39m\u001b[39m\"\"\"Resets the environment with :param:`**kwargs` and sets the number of steps elapsed to zero.\u001b[39;00m\n\u001b[1;32m     67\u001b[0m \n\u001b[1;32m     68\u001b[0m \u001b[39mArgs:\u001b[39;00m\n\u001b[0;32m   (...)\u001b[0m\n\u001b[1;32m     72\u001b[0m \u001b[39m    The reset environment\u001b[39;00m\n\u001b[1;32m     73\u001b[0m \u001b[39m\"\"\"\u001b[39;00m\n\u001b[1;32m     74\u001b[0m \u001b[39mself\u001b[39m\u001b[39m.\u001b[39m_elapsed_steps \u001b[39m=\u001b[39m \u001b[39m0\u001b[39m\n\u001b[0;32m---> 75\u001b[0m \u001b[39mreturn\u001b[39;00m \u001b[39mself\u001b[39;49m\u001b[39m.\u001b[39;49menv\u001b[39m.\u001b[39;49mreset(\u001b[39m*\u001b[39;49m\u001b[39m*\u001b[39;49mkwargs)\n",
      "File \u001b[0;32m~/.local/lib/python3.10/site-packages/gymnasium/wrappers/order_enforcing.py:61\u001b[0m, in \u001b[0;36mOrderEnforcing.reset\u001b[0;34m(self, **kwargs)\u001b[0m\n\u001b[1;32m     59\u001b[0m \u001b[39m\u001b[39m\u001b[39m\"\"\"Resets the environment with `kwargs`.\"\"\"\u001b[39;00m\n\u001b[1;32m     60\u001b[0m \u001b[39mself\u001b[39m\u001b[39m.\u001b[39m_has_reset \u001b[39m=\u001b[39m \u001b[39mTrue\u001b[39;00m\n\u001b[0;32m---> 61\u001b[0m \u001b[39mreturn\u001b[39;00m \u001b[39mself\u001b[39;49m\u001b[39m.\u001b[39;49menv\u001b[39m.\u001b[39;49mreset(\u001b[39m*\u001b[39;49m\u001b[39m*\u001b[39;49mkwargs)\n",
      "File \u001b[0;32m~/.local/lib/python3.10/site-packages/gymnasium/wrappers/env_checker.py:57\u001b[0m, in \u001b[0;36mPassiveEnvChecker.reset\u001b[0;34m(self, **kwargs)\u001b[0m\n\u001b[1;32m     55\u001b[0m     \u001b[39mreturn\u001b[39;00m env_reset_passive_checker(\u001b[39mself\u001b[39m\u001b[39m.\u001b[39menv, \u001b[39m*\u001b[39m\u001b[39m*\u001b[39mkwargs)\n\u001b[1;32m     56\u001b[0m \u001b[39melse\u001b[39;00m:\n\u001b[0;32m---> 57\u001b[0m     \u001b[39mreturn\u001b[39;00m \u001b[39mself\u001b[39;49m\u001b[39m.\u001b[39;49menv\u001b[39m.\u001b[39;49mreset(\u001b[39m*\u001b[39;49m\u001b[39m*\u001b[39;49mkwargs)\n",
      "File \u001b[0;32m~/.local/lib/python3.10/site-packages/gymnasium/envs/box2d/lunar_lander.py:351\u001b[0m, in \u001b[0;36mLunarLander.reset\u001b[0;34m(self, seed, options)\u001b[0m\n\u001b[1;32m    345\u001b[0m \u001b[39mdef\u001b[39;00m \u001b[39mreset\u001b[39m(\n\u001b[1;32m    346\u001b[0m     \u001b[39mself\u001b[39m,\n\u001b[1;32m    347\u001b[0m     \u001b[39m*\u001b[39m,\n\u001b[1;32m    348\u001b[0m     seed: Optional[\u001b[39mint\u001b[39m] \u001b[39m=\u001b[39m \u001b[39mNone\u001b[39;00m,\n\u001b[1;32m    349\u001b[0m     options: Optional[\u001b[39mdict\u001b[39m] \u001b[39m=\u001b[39m \u001b[39mNone\u001b[39;00m,\n\u001b[1;32m    350\u001b[0m ):\n\u001b[0;32m--> 351\u001b[0m     \u001b[39msuper\u001b[39;49m()\u001b[39m.\u001b[39;49mreset(seed\u001b[39m=\u001b[39;49mseed)\n\u001b[1;32m    352\u001b[0m     \u001b[39mself\u001b[39m\u001b[39m.\u001b[39m_destroy()\n\u001b[1;32m    353\u001b[0m     \u001b[39mself\u001b[39m\u001b[39m.\u001b[39mworld\u001b[39m.\u001b[39mcontactListener_keepref \u001b[39m=\u001b[39m ContactDetector(\u001b[39mself\u001b[39m)\n",
      "File \u001b[0;32m~/.local/lib/python3.10/site-packages/gymnasium/core.py:148\u001b[0m, in \u001b[0;36mEnv.reset\u001b[0;34m(self, seed, options)\u001b[0m\n\u001b[1;32m    146\u001b[0m \u001b[39m# Initialize the RNG if the seed is manually passed\u001b[39;00m\n\u001b[1;32m    147\u001b[0m \u001b[39mif\u001b[39;00m seed \u001b[39mis\u001b[39;00m \u001b[39mnot\u001b[39;00m \u001b[39mNone\u001b[39;00m:\n\u001b[0;32m--> 148\u001b[0m     \u001b[39mself\u001b[39m\u001b[39m.\u001b[39m_np_random, seed \u001b[39m=\u001b[39m seeding\u001b[39m.\u001b[39;49mnp_random(seed)\n",
      "File \u001b[0;32m~/.local/lib/python3.10/site-packages/gymnasium/utils/seeding.py:31\u001b[0m, in \u001b[0;36mnp_random\u001b[0;34m(seed)\u001b[0m\n\u001b[1;32m     26\u001b[0m     \u001b[39melse\u001b[39;00m:\n\u001b[1;32m     27\u001b[0m         \u001b[39mraise\u001b[39;00m error\u001b[39m.\u001b[39mError(\n\u001b[1;32m     28\u001b[0m             \u001b[39mf\u001b[39m\u001b[39m\"\u001b[39m\u001b[39mSeed must be greater or equal to zero, actual value: \u001b[39m\u001b[39m{\u001b[39;00mseed\u001b[39m}\u001b[39;00m\u001b[39m\"\u001b[39m\n\u001b[1;32m     29\u001b[0m         )\n\u001b[0;32m---> 31\u001b[0m seed_seq \u001b[39m=\u001b[39m np\u001b[39m.\u001b[39;49mrandom\u001b[39m.\u001b[39;49mSeedSequence(seed)\n\u001b[1;32m     32\u001b[0m np_seed \u001b[39m=\u001b[39m seed_seq\u001b[39m.\u001b[39mentropy\n\u001b[1;32m     33\u001b[0m rng \u001b[39m=\u001b[39m RandomNumberGenerator(np\u001b[39m.\u001b[39mrandom\u001b[39m.\u001b[39mPCG64(seed_seq))\n",
      "\u001b[0;31mKeyboardInterrupt\u001b[0m: "
     ]
    }
   ],
   "source": [
    "# chromosom - 150 liczb z zakresu 0-3 (akcje)\n",
    "\n",
    "ga_instance = pygad.GA(\n",
    "    num_generations=100,\n",
    "    num_parents_mating=200,\n",
    "    fitness_func=fitness_func,\n",
    "    sol_per_pop=200,\n",
    "    num_genes=150,\n",
    "    gene_type=int,\n",
    "    init_range_low=0,\n",
    "    init_range_high=3,\n",
    "    parent_selection_type=\"tournament\",\n",
    "    keep_parents=1,\n",
    "    mutation_percent_genes=20,\n",
    "    mutation_by_replacement=True,\n",
    "    mutation_type=\"random\",\n",
    "    random_mutation_min_val=0,\n",
    "    random_mutation_max_val=3,\n",
    ")\n",
    "\n",
    "#uruchomienie algorytmu\n",
    "ga_instance.run()\n",
    "\n",
    "#podsumowanie: najlepsze znalezione rozwiazanie (chromosom+ocena)\n",
    "solution, solution_fitness, solution_idx = ga_instance.best_solution()\n",
    "print(\"Parameters of the best solution : {solution}\".format(solution=solution))\n",
    "print(\"Fitness value of the best solution = {solution_fitness}\".format(solution_fitness=solution_fitness))\n",
    "\n",
    "\n",
    "#wyswietlenie wykresu: jak zmieniala sie ocena na przestrzeni pokolen\n",
    "ga_instance.plot_fitness();"
   ]
  },
  {
   "cell_type": "code",
   "execution_count": 7,
   "metadata": {},
   "outputs": [],
   "source": [
    "env = gym.make('LunarLander-v2', render_mode=\"human\")\n",
    "observation, info = env.reset(seed=42)\n",
    "solution = [0, 0, 0, 0, 2, 0, 2, 0, 0, 0, 0, 0, 0, 2, 0, 0, 0, 0, 0, 0, 2, 2, 0, 0, 0, 0, 0, 2, 0, 2, 2, 2, 2, 0, 1, 2, 2, 0, 2, 0, 0, 0, 0, 0, 0, 0, 2, 1, 1, 1, 0, 0, 2, 2, 0, 0, 0, 0, 0, 0, 1, 0, 0, 2, 2, 0, 1, 0, 2, 0, 2, 2, 1, 2, 1, 0, 0, 0, 1, 2, 0, 0, 0, 0, 2, 2, 2, 1, 2, 0, 1, 1, 0, 0, 2, 2, 0, 1, 2, 1, 2, 0, 2, 0, 2, 1, 0, 1, 2, 2, 1, 0, 2, 0, 0, 0, 0, 1, 0, 2, 1, 0, 1, 1, 1, 0, 2, 2, 0, 0, 0, 0, 0, 0, 2, 2, 0, 2, 0, 0, 1, 0, 0, 0, 1, 0, 0, 0, 2, 2, 2, 0, 2, 1, 0, 0, 0, 0, 2, 0, 0, 0, 0, 1, 0, 2, 0, 1, 2, 2, 1, 0, 2, 0, 2, 2, 0, 2, 1, 2, 1, 1, 2, 0, 2, 2, 2, 2, 0, 1, 0, 2, 2, 2, 0, 2, 2, 2, 2, 0]\n",
    "for i in range(len(solution)):\n",
    "   action = solution[i]\n",
    "   observation, reward, terminated, truncated, info = env.step(action)   \n",
    "\n",
    "   if terminated or truncated:\n",
    "      observation, info = env.reset(seed=42)\n",
    "time.sleep(1)\n",
    "env.close()"
   ]
  }
 ],
 "metadata": {
  "kernelspec": {
   "display_name": "Python 3",
   "language": "python",
   "name": "python3"
  },
  "language_info": {
   "codemirror_mode": {
    "name": "ipython",
    "version": 3
   },
   "file_extension": ".py",
   "mimetype": "text/x-python",
   "name": "python",
   "nbconvert_exporter": "python",
   "pygments_lexer": "ipython3",
   "version": "3.10.6"
  },
  "orig_nbformat": 4
 },
 "nbformat": 4,
 "nbformat_minor": 2
}
