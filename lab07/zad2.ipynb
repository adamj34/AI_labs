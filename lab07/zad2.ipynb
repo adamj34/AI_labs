{
 "cells": [
  {
   "cell_type": "code",
   "execution_count": 1,
   "metadata": {},
   "outputs": [],
   "source": [
    "import torch\n",
    "from torch.utils.data import DataLoader\n",
    "from sklearn.model_selection import train_test_split\n",
    "from sklearn.metrics import ConfusionMatrixDisplay\n",
    "from sklearn.metrics import confusion_matrix\n",
    "import matplotlib.pyplot as plt\n",
    "from torchvision.io import read_image\n",
    "import torchvision.transforms as T\n",
    "import torch.nn as nn\n",
    "import os"
   ]
  },
  {
   "cell_type": "code",
   "execution_count": 2,
   "metadata": {},
   "outputs": [],
   "source": [
    "device = torch.device('cuda' if torch.cuda.is_available() else 'cpu')"
   ]
  },
  {
   "cell_type": "code",
   "execution_count": 3,
   "metadata": {},
   "outputs": [],
   "source": [
    "transform = T.Compose([\n",
    "    T.Resize((32, 32)),  # Resize images to (32, 32)\n",
    "])"
   ]
  },
  {
   "cell_type": "code",
   "execution_count": 4,
   "metadata": {},
   "outputs": [
    {
     "name": "stderr",
     "output_type": "stream",
     "text": [
      "/home/toddi/.local/lib/python3.10/site-packages/torchvision/transforms/functional.py:1603: UserWarning: The default value of the antialias parameter of all the resizing transforms (Resize(), RandomResizedCrop(), etc.) will change from None to True in v0.17, in order to be consistent across the PIL and Tensor backends. To suppress this warning, directly pass antialias=True (recommended, future default), antialias=None (current default, which means False for Tensors and True for PIL), or antialias=False (only works on Tensors - PIL will still use antialiasing). This also applies if you are using the inference transforms from the models weights: update the call to weights.transforms(antialias=True).\n",
      "  warnings.warn(\n"
     ]
    }
   ],
   "source": [
    "dataset = []\n",
    "for image in os.listdir('./dogs-cats-mini'):\n",
    "    dataset.append((transform(read_image(f'./dogs-cats-mini/{image}').float()), 1 if 'cat' in image else 0))"
   ]
  },
  {
   "cell_type": "code",
   "execution_count": null,
   "metadata": {},
   "outputs": [],
   "source": [
    "train_set, val_test_set = train_test_split(dataset, test_size=0.3)\n",
    "val_set, test_set = train_test_split(val_test_set, test_size=0.5)"
   ]
  },
  {
   "cell_type": "code",
   "execution_count": null,
   "metadata": {},
   "outputs": [],
   "source": [
    "train_loader = DataLoader(train_set, batch_size=32, shuffle=True)\n",
    "val_loader = DataLoader(val_set, batch_size=32, shuffle=True)\n",
    "test_loader = DataLoader(test_set, batch_size=32, shuffle=True)"
   ]
  },
  {
   "cell_type": "code",
   "execution_count": null,
   "metadata": {},
   "outputs": [
    {
     "ename": "SyntaxError",
     "evalue": "invalid syntax. Perhaps you forgot a comma? (430360279.py, line 70)",
     "output_type": "error",
     "traceback": [
      "\u001b[0;36m  Cell \u001b[0;32mIn[7], line 70\u001b[0;36m\u001b[0m\n\u001b[0;31m    nn.Dropout(0.2)\u001b[0m\n\u001b[0m    ^\u001b[0m\n\u001b[0;31mSyntaxError\u001b[0m\u001b[0;31m:\u001b[0m invalid syntax. Perhaps you forgot a comma?\n"
     ]
    }
   ],
   "source": [
    "# # Creating a CNN class\n",
    "# class ConvNeuralNet(nn.Module):\n",
    "# \t#  Determine what layers and their order in CNN object \n",
    "#     def __init__(self):\n",
    "#         super(ConvNeuralNet, self).__init__()\n",
    "#         self.conv_layer1 = nn.Conv2d(in_channels=3, out_channels=32, kernel_size=3)\n",
    "#         self.relu1 = nn.ReLU()\n",
    "#         self.batch_norm1 = nn.BatchNorm2d(32)\n",
    "#         self.conv_layer2 = nn.Conv2d(in_channels=32, out_channels=32, kernel_size=3)\n",
    "#         self.relu2 = nn.ReLU()\n",
    "#         self.batch_norm2 = nn.BatchNorm2d(32)\n",
    "#         self.max_pool1 = nn.MaxPool2d(kernel_size = 2, stride = 2)\n",
    "        \n",
    "#         self.conv_layer3 = nn.Conv2d(in_channels=32, out_channels=64, kernel_size=3)\n",
    "#         self.relu3 = nn.ReLU()\n",
    "#         self.batch_norm3 = nn.BatchNorm2d(64)\n",
    "#         self.conv_layer4 = nn.Conv2d(in_channels=64, out_channels=64, kernel_size=3)\n",
    "#         self.relu4 = nn.ReLU()\n",
    "#         self.batch_norm4 = nn.BatchNorm2d(64)\n",
    "#         self.max_pool2 = nn.MaxPool2d(kernel_size = 2, stride = 2)\n",
    "        \n",
    "#         self.fc1 = nn.Linear(1600, 800)\n",
    "#         self.relu5 = nn.ReLU()\n",
    "#         self.batch_norm5 = nn.BatchNorm1d(800)\n",
    "#         self.fc2 = nn.Linear(800, 128)\n",
    "#         self.relu6 = nn.ReLU()\n",
    "#         self.batch_norm6 = nn.BatchNorm1d(128)\n",
    "#         self.fc3 = nn.Linear(128, 1)\n",
    "\n",
    "    \n",
    "#     # Progresses data across layers    \n",
    "#     def forward(self, x):\n",
    "#         out = self.conv_layer1(x)\n",
    "#         out = self.relu1(out)\n",
    "#         out = self.batch_norm1(out)\n",
    "#         out = self.conv_layer2(out)\n",
    "#         out = self.relu2(out)\n",
    "#         out = self.batch_norm2(out)\n",
    "#         out = self.max_pool1(out)\n",
    "#         out = self.conv_layer3(out)\n",
    "#         out = self.relu3(out)\n",
    "#         out = self.batch_norm3(out)\n",
    "#         out = self.conv_layer4(out)\n",
    "#         out = self.relu4(out)\n",
    "#         out = self.batch_norm4(out)\n",
    "#         out = self.max_pool2(out)\n",
    "#         out = out.view(out.size(0), -1)\n",
    "#         out = self.fc1(out)\n",
    "#         out = self.relu5(out)\n",
    "#         out = self.batch_norm5(out)\n",
    "#         out = self.fc2(out)\n",
    "#         out = self.relu6(out)\n",
    "#         out = self.batch_norm6(out)\n",
    "#         out = self.fc3(out)\n",
    "\n",
    "#         return out\n",
    "class ConvNeuralNet(nn.Module):\n",
    "    # Determine what layers and their order in CNN object\n",
    "    def __init__(self):\n",
    "        super(ConvNeuralNet, self).__init__()\n",
    "\n",
    "        self.convs = nn.Sequential(\n",
    "            nn.Conv2d(in_channels=3, out_channels=32, kernel_size=3),\n",
    "            nn.ReLU(),\n",
    "            nn.BatchNorm2d(32),\n",
    "            nn.Conv2d(in_channels=32, out_channels=32, kernel_size=3),\n",
    "            nn.ReLU(),\n",
    "            nn.BatchNorm2d(32),\n",
    "            nn.MaxPool2d(kernel_size=2, stride=2),\n",
    "            nn.Dropout(0.2),\n",
    "            \n",
    "            nn.Conv2d(in_channels=32, out_channels=64, kernel_size=3),\n",
    "            nn.ReLU(),\n",
    "            nn.BatchNorm2d(64),\n",
    "            nn.Conv2d(in_channels=64, out_channels=64, kernel_size=3),\n",
    "            nn.ReLU(),\n",
    "            nn.BatchNorm2d(64),\n",
    "            nn.MaxPool2d(kernel_size=2, stride=2),\n",
    "            nn.Dropout(0.2),\n",
    "        )\n",
    "\n",
    "        self.linear = nn.Sequential(\n",
    "            nn.Linear(1600, 800),\n",
    "            nn.ReLU(),\n",
    "            nn.BatchNorm1d(800),\n",
    "            nn.Dropout(0.2),\n",
    "            nn.Linear(800, 128),\n",
    "            nn.ReLU(),\n",
    "            nn.BatchNorm1d(128),\n",
    "            nn.Linear(128, 1),\n",
    "        )\n",
    "\n",
    "    # Progresses data across layers\n",
    "    def forward(self, x):\n",
    "        out = self.convs(x)\n",
    "        out = out.view(out.size(0), -1)\n",
    "        out = self.linear(out)\n",
    "        return out"
   ]
  },
  {
   "cell_type": "code",
   "execution_count": null,
   "metadata": {},
   "outputs": [],
   "source": [
    "model = ConvNeuralNet().to(device)\n",
    "\n",
    "# Set Loss function with criterion\n",
    "criterion = nn.BCEWithLogitsLoss()\n",
    "\n",
    "# Set optimizer with optimizer\n",
    "optimizer = torch.optim.SGD(model.parameters(), lr=0.001, momentum = 0.9)  "
   ]
  },
  {
   "cell_type": "code",
   "execution_count": null,
   "metadata": {},
   "outputs": [
    {
     "ename": "",
     "evalue": "",
     "output_type": "error",
     "traceback": [
      "\u001b[1;31mCanceled future for execute_request message before replies were done"
     ]
    },
    {
     "ename": "",
     "evalue": "",
     "output_type": "error",
     "traceback": [
      "\u001b[1;31mThe Kernel crashed while executing code in the the current cell or a previous cell. Please review the code in the cell(s) to identify a possible cause of the failure. Click <a href='https://aka.ms/vscodeJupyterKernelCrash'>here</a> for more info. View Jupyter <a href='command:jupyter.viewOutput'>log</a> for further details."
     ]
    }
   ],
   "source": [
    "val_loss, train_loss = [], []\n",
    "epochs = 20\n",
    "# We use the pre-defined number of epochs to determine how many iterations to train the network on\n",
    "for epoch in range(epochs):\n",
    "    t_loss = 0.0\n",
    "    v_loss = 0.0\n",
    "    model.train()\n",
    "    for images, labels in train_loader:\n",
    "\n",
    "        outputs = model(images)        \n",
    "        loss = criterion(outputs, labels.unsqueeze(1).float())\n",
    "        # Backward and optimize\n",
    "        optimizer.zero_grad()\n",
    "        loss.backward()\n",
    "        optimizer.step()\n",
    "        # stats\n",
    "        t_loss += loss.item()\n",
    "    train_loss.append(t_loss / len(train_loader))\n",
    "\n",
    "    model.eval()\n",
    "    with torch.no_grad():\n",
    "        for images, labels in val_loader:\n",
    "            outputs = model(images)\n",
    "            loss = criterion(outputs, labels.unsqueeze(1).float())\n",
    "            v_loss += loss.item()\n",
    "    val_loss.append(v_loss / len(val_loader))\n",
    "    \n",
    "    print(f'Epoch [{epoch+1}/{epochs}], Loss: {loss.item():.4f}')"
   ]
  },
  {
   "cell_type": "code",
   "execution_count": null,
   "metadata": {},
   "outputs": [
    {
     "data": {
      "image/png": "[encoded data removed]",
      "text/plain": [
       "<Figure size 640x480 with 1 Axes>"
      ]
     },
     "metadata": {},
     "output_type": "display_data"
    }
   ],
   "source": [
    "plt.plot(torch.arange(1, epochs+1, 1), train_loss, label='train loss')\n",
    "plt.plot(torch.arange(1, epochs+1, 1), val_loss, label='validation loss')\n",
    "plt.xlabel('Epoch')\n",
    "plt.legend();"
   ]
  },
  {
   "cell_type": "code",
   "execution_count": null,
   "metadata": {},
   "outputs": [
    {
     "name": "stdout",
     "output_type": "stream",
     "text": [
      "Accuracy of the network on the 3750 test images: 77.28%\n"
     ]
    }
   ],
   "source": [
    "model.eval()\n",
    "with torch.no_grad():\n",
    "    correct = 0\n",
    "    total = 0\n",
    "    for images, labels in test_loader:\n",
    "        outputs = model(images)\n",
    "        predicted = torch.round(torch.sigmoid(outputs))\n",
    "        total += labels.size(0)\n",
    "        correct += (predicted == labels.unsqueeze(1)).sum().item()\n",
    "    print(f'Accuracy of the network on the {total} test images: {100 * correct / total}%')\n"
   ]
  },
  {
   "cell_type": "code",
   "execution_count": null,
   "metadata": {},
   "outputs": [
    {
     "ename": "NameError",
     "evalue": "name 'test_set' is not defined",
     "output_type": "error",
     "traceback": [
      "\u001b[0;31m---------------------------------------------------------------------------\u001b[0m",
      "\u001b[0;31mNameError\u001b[0m                                 Traceback (most recent call last)",
      "Cell \u001b[0;32mIn[1], line 1\u001b[0m\n\u001b[0;32m----> 1\u001b[0m \u001b[39mfor\u001b[39;00m images, labels \u001b[39min\u001b[39;00m test_set:\n\u001b[1;32m      2\u001b[0m     outputs \u001b[39m=\u001b[39m model(images)\n\u001b[1;32m      3\u001b[0m     predicted \u001b[39m=\u001b[39m torch\u001b[39m.\u001b[39mround(torch\u001b[39m.\u001b[39msigmoid(outputs))\n",
      "\u001b[0;31mNameError\u001b[0m: name 'test_set' is not defined"
     ]
    }
   ],
   "source": [
    "for images, labels in test_set:\n",
    "    outputs = model(images)\n",
    "    predicted = torch.round(torch.sigmoid(outputs))\n",
    "    cm = confusion_matrix(labels, predicted)\n",
    "    dips = ConfusionMatrixDisplay(cm, display_labels=['Cat', 'Dog'])\n",
    "    dips.plot()"
   ]
  }
 ],
 "metadata": {
  "kernelspec": {
   "display_name": "Python 3",
   "language": "python",
   "name": "python3"
  },
  "language_info": {
   "codemirror_mode": {
    "name": "ipython",
    "version": 3
   },
   "file_extension": ".py",
   "mimetype": "text/x-python",
   "name": "python",
   "nbconvert_exporter": "python",
   "pygments_lexer": "ipython3",
   "version": "3.10.6"
  },
  "orig_nbformat": 4
 },
 "nbformat": 4,
 "nbformat_minor": 2
}
