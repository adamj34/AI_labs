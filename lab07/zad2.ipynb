{
 "cells": [
  {
   "cell_type": "code",
   "execution_count": 1,
   "metadata": {},
   "outputs": [],
   "source": [
    "import torch\n",
    "from torch.utils.data import DataLoader\n",
    "from sklearn.model_selection import train_test_split\n",
    "from sklearn.metrics import ConfusionMatrixDisplay\n",
    "from sklearn.metrics import confusion_matrix\n",
    "import matplotlib.pyplot as plt\n",
    "from torchvision.io import read_image\n",
    "import torchvision.transforms as T\n",
    "import torch.nn as nn\n",
    "import os\n",
    "import PIL"
   ]
  },
  {
   "cell_type": "code",
   "execution_count": 2,
   "metadata": {},
   "outputs": [],
   "source": [
    "device = torch.device('cuda' if torch.cuda.is_available() else 'cpu')"
   ]
  },
  {
   "cell_type": "code",
   "execution_count": 3,
   "metadata": {},
   "outputs": [],
   "source": [
    "transform = T.Compose([\n",
    "    T.Resize((64, 64)), # Resize images to (64, 64)\n",
    "    T.ToTensor()  \n",
    "])"
   ]
  },
  {
   "cell_type": "code",
   "execution_count": 4,
   "metadata": {},
   "outputs": [],
   "source": [
    "dataset = []\n",
    "for image in os.listdir('./dogs-cats-mini'):\n",
    "    dataset.append([transform(PIL.Image.open(f'./dogs-cats-mini/{image}')), 1 if 'cat' in image else 0])\n"
   ]
  },
  {
   "cell_type": "code",
   "execution_count": 5,
   "metadata": {},
   "outputs": [],
   "source": [
    "train_set, val_test_set = train_test_split(dataset, test_size=0.3)\n",
    "val_set, test_set = train_test_split(val_test_set, test_size=0.5)"
   ]
  },
  {
   "cell_type": "code",
   "execution_count": 6,
   "metadata": {},
   "outputs": [],
   "source": [
    "train_loader = DataLoader(train_set, batch_size=32, shuffle=True)\n",
    "val_loader = DataLoader(val_set, batch_size=32, shuffle=True)\n",
    "test_loader = DataLoader(test_set, batch_size=32, shuffle=True)"
   ]
  },
  {
   "cell_type": "code",
   "execution_count": 7,
   "metadata": {},
   "outputs": [],
   "source": [
    "class ConvNeuralNet(nn.Module):\n",
    "    # Determine what layers and their order in CNN object\n",
    "    def __init__(self):\n",
    "        super(ConvNeuralNet, self).__init__()\n",
    "\n",
    "        self.convs = nn.Sequential(\n",
    "            nn.Conv2d(in_channels=3, out_channels=64, kernel_size=3),\n",
    "            nn.ReLU(),\n",
    "            nn.BatchNorm2d(64),\n",
    "            nn.Conv2d(in_channels=64, out_channels=64, kernel_size=3),\n",
    "            nn.ReLU(),\n",
    "            nn.BatchNorm2d(64),\n",
    "            nn.MaxPool2d(kernel_size=2, stride=2),\n",
    "            nn.Dropout(0.4),\n",
    "            \n",
    "            nn.Conv2d(in_channels=64, out_channels=64, kernel_size=3),\n",
    "            nn.ReLU(),\n",
    "            nn.BatchNorm2d(64),\n",
    "            nn.MaxPool2d(kernel_size=2, stride=2),\n",
    "            nn.Conv2d(in_channels=64, out_channels=64, kernel_size=3),\n",
    "            nn.ReLU(),\n",
    "            nn.BatchNorm2d(64),\n",
    "            nn.MaxPool2d(kernel_size=2, stride=2),\n",
    "            nn.Dropout(0.4),\n",
    "        )\n",
    "\n",
    "        self.linear = nn.Sequential(\n",
    "            nn.Linear(2304, 800),\n",
    "            nn.ReLU(),\n",
    "            nn.BatchNorm1d(800),\n",
    "            nn.Dropout(0.4),\n",
    "            nn.Linear(800, 128),\n",
    "            nn.ReLU(),\n",
    "            nn.BatchNorm1d(128),\n",
    "            nn.Linear(128, 1),\n",
    "        )\n",
    "\n",
    "    # Progresses data across layers\n",
    "    def forward(self, x):\n",
    "        out = self.convs(x)\n",
    "        out = out.view(out.size(0), -1)\n",
    "        out = self.linear(out)\n",
    "        return out"
   ]
  },
  {
   "cell_type": "code",
   "execution_count": 8,
   "metadata": {},
   "outputs": [],
   "source": [
    "model = ConvNeuralNet()\n",
    "\n",
    "# Set Loss function with criterion\n",
    "criterion = nn.BCEWithLogitsLoss()\n",
    "\n",
    "# Set optimizer with optimizer\n",
    "optimizer = torch.optim.SGD(model.parameters(), lr=0.001, momentum = 0.9)  "
   ]
  },
  {
   "cell_type": "code",
   "execution_count": 9,
   "metadata": {},
   "outputs": [
    {
     "name": "stdout",
     "output_type": "stream",
     "text": [
      "Epoch [1/15], Loss: 0.6598\n",
      "Epoch [2/15], Loss: 0.5129\n",
      "Epoch [3/15], Loss: 0.4096\n",
      "Epoch [4/15], Loss: 0.1133\n",
      "Epoch [5/15], Loss: 0.5454\n",
      "Epoch [6/15], Loss: 0.2376\n",
      "Epoch [7/15], Loss: 0.4196\n",
      "Epoch [8/15], Loss: 0.3050\n",
      "Epoch [9/15], Loss: 0.3402\n",
      "Epoch [10/15], Loss: 0.3786\n",
      "Epoch [11/15], Loss: 0.3692\n",
      "Epoch [12/15], Loss: 0.0797\n",
      "Epoch [13/15], Loss: 0.6412\n",
      "Epoch [14/15], Loss: 0.2115\n",
      "Epoch [15/15], Loss: 0.5165\n"
     ]
    }
   ],
   "source": [
    "val_loss, train_loss = [], []\n",
    "epochs = 15\n",
    "# We use the pre-defined number of epochs to determine how many iterations to train the network on\n",
    "for epoch in range(epochs):\n",
    "    t_loss = 0.0\n",
    "    v_loss = 0.0\n",
    "    model.train()\n",
    "    for images, labels in train_loader:\n",
    "\n",
    "        outputs = model(images)        \n",
    "        loss = criterion(outputs, labels.unsqueeze(1).float())\n",
    "        # Backward and optimize\n",
    "        optimizer.zero_grad()\n",
    "        loss.backward()\n",
    "        optimizer.step()\n",
    "        # stats\n",
    "        t_loss += loss.item()\n",
    "    train_loss.append(t_loss / len(train_loader))\n",
    "\n",
    "    model.eval()\n",
    "    with torch.no_grad():\n",
    "        for images, labels in val_loader:\n",
    "            outputs = model(images)\n",
    "            loss = criterion(outputs, labels.unsqueeze(1).float())\n",
    "            v_loss += loss.item()\n",
    "    val_loss.append(v_loss / len(val_loader))\n",
    "    \n",
    "    print(f'Epoch [{epoch+1}/{epochs}], Loss: {loss.item():.4f}')"
   ]
  },
  {
   "cell_type": "code",
   "execution_count": 10,
   "metadata": {},
   "outputs": [
    {
     "data": {
      "image/png": "[encoded data removed]",
      "text/plain": [
       "<Figure size 640x480 with 1 Axes>"
      ]
     },
     "metadata": {},
     "output_type": "display_data"
    }
   ],
   "source": [
    "plt.plot(torch.arange(1, epochs+1, 1), train_loss, label='train loss')\n",
    "plt.plot(torch.arange(1, epochs+1, 1), val_loss, label='validation loss')\n",
    "plt.xlabel('Epoch')\n",
    "plt.legend();"
   ]
  },
  {
   "cell_type": "code",
   "execution_count": 11,
   "metadata": {},
   "outputs": [
    {
     "name": "stdout",
     "output_type": "stream",
     "text": [
      "Accuracy of the network on the 3750 test images: 82.69333333333333%\n"
     ]
    }
   ],
   "source": [
    "model.eval()\n",
    "with torch.no_grad():\n",
    "    correct = 0\n",
    "    total = 0\n",
    "    for images, labels in test_loader:\n",
    "        outputs = model(images)\n",
    "        predicted = torch.round(torch.sigmoid(outputs))\n",
    "        total += labels.size(0)\n",
    "        correct += (predicted == labels.unsqueeze(1)).sum().item()\n",
    "    print(f'Accuracy of the network on the {total} test images: {100 * correct / total}%')\n"
   ]
  },
  {
   "cell_type": "code",
   "execution_count": null,
   "metadata": {},
   "outputs": [],
   "source": [
    "all_test_loader = torch.utils.data.DataLoader(test_set, batch_size=len(test_set), shuffle=False)\n",
    "for images, labels in all_test_loader:\n",
    "    outputs = model(images)\n",
    "    predicted = torch.round(torch.sigmoid(outputs))\n",
    "    cm = confusion_matrix(labels.detach().numpy(), predicted.detach().numpy())\n",
    "    dips = ConfusionMatrixDisplay(cm, display_labels=['Dog', 'Cat'])\n",
    "    dips.plot()"
   ]
  },
  {
   "cell_type": "code",
   "execution_count": null,
   "metadata": {},
   "outputs": [
    {
     "ename": "NameError",
     "evalue": "name 'model' is not defined",
     "output_type": "error",
     "traceback": [
      "\u001b[0;31m---------------------------------------------------------------------------\u001b[0m",
      "\u001b[0;31mNameError\u001b[0m                                 Traceback (most recent call last)",
      "Cell \u001b[0;32mIn[1], line 2\u001b[0m\n\u001b[1;32m      1\u001b[0m misclassified \u001b[39m=\u001b[39m []\n\u001b[0;32m----> 2\u001b[0m model\u001b[39m.\u001b[39meval()\n\u001b[1;32m      3\u001b[0m \u001b[39mwith\u001b[39;00m torch\u001b[39m.\u001b[39mno_grad():\n\u001b[1;32m      4\u001b[0m     \u001b[39mfor\u001b[39;00m images, labels \u001b[39min\u001b[39;00m all_test_loader:\n",
      "\u001b[0;31mNameError\u001b[0m: name 'model' is not defined"
     ]
    }
   ],
   "source": [
    "misclassified = []\n",
    "model.eval()\n",
    "with torch.no_grad():\n",
    "    for images, labels in all_test_loader:\n",
    "        outputs = model(images)\n",
    "        predicted = torch.round(torch.sigmoid(outputs))\n",
    "        for i in range(len(labels)):\n",
    "            if labels[i] != predicted[i]:\n",
    "                misclassified.append(images[i])\n",
    "for img in misclassified[:8]:\n",
    "    i = T.functional.to_pil_image(img)\n",
    "    plt.imshow(i)\n",
    "    plt.show()\n",
    "a = T.functional.to_pil_image(dataset[9][0])\n",
    "plt.imshow(a)"
   ]
  }
 ],
 "metadata": {
  "kernelspec": {
   "display_name": "Python 3",
   "language": "python",
   "name": "python3"
  },
  "language_info": {
   "codemirror_mode": {
    "name": "ipython",
    "version": 3
   },
   "file_extension": ".py",
   "mimetype": "text/x-python",
   "name": "python",
   "nbconvert_exporter": "python",
   "pygments_lexer": "ipython3",
   "version": "3.10.6"
  },
  "orig_nbformat": 4
 },
 "nbformat": 4,
 "nbformat_minor": 2
}
